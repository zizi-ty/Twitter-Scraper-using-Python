{
  "nbformat": 4,
  "nbformat_minor": 0,
  "metadata": {
    "colab": {
      "name": "Untitled203.ipynb",
      "provenance": []
    },
    "kernelspec": {
      "name": "python3",
      "display_name": "Python 3"
    },
    "language_info": {
      "name": "python"
    }
  },
  "cells": [
    {
      "cell_type": "markdown",
      "source": [
        "### Collection tweets based on key words\n",
        "\n",
        "This notebook will show you how to use the tweepy python library to collect tweets from Twitter based on key words"
      ],
      "metadata": {
        "id": "scx0iCMcboVT"
      }
    },
    {
      "cell_type": "markdown",
      "source": [
        "### STEP 1: PYTHON PACKAGES INSTALLATION\n",
        "\n",
        "Install the following python packages that will help you to collect data from twitter.com"
      ],
      "metadata": {
        "id": "nMuTFGR2b_AS"
      }
    },
    {
      "cell_type": "code",
      "execution_count": 1,
      "metadata": {
        "colab": {
          "base_uri": "https://localhost:8080/"
        },
        "id": "Y-gl4mdubmpd",
        "outputId": "3b571e36-6c2d-47f9-e147-1c3e8eeb6a9f"
      },
      "outputs": [
        {
          "output_type": "stream",
          "name": "stdout",
          "text": [
            "Requirement already satisfied: tweepy in /usr/local/lib/python3.7/dist-packages (3.10.0)\n",
            "Requirement already satisfied: six>=1.10.0 in /usr/local/lib/python3.7/dist-packages (from tweepy) (1.15.0)\n",
            "Requirement already satisfied: requests-oauthlib>=0.7.0 in /usr/local/lib/python3.7/dist-packages (from tweepy) (1.3.1)\n",
            "Requirement already satisfied: requests[socks]>=2.11.1 in /usr/local/lib/python3.7/dist-packages (from tweepy) (2.23.0)\n",
            "Requirement already satisfied: oauthlib>=3.0.0 in /usr/local/lib/python3.7/dist-packages (from requests-oauthlib>=0.7.0->tweepy) (3.2.0)\n",
            "Requirement already satisfied: urllib3!=1.25.0,!=1.25.1,<1.26,>=1.21.1 in /usr/local/lib/python3.7/dist-packages (from requests[socks]>=2.11.1->tweepy) (1.24.3)\n",
            "Requirement already satisfied: certifi>=2017.4.17 in /usr/local/lib/python3.7/dist-packages (from requests[socks]>=2.11.1->tweepy) (2021.10.8)\n",
            "Requirement already satisfied: chardet<4,>=3.0.2 in /usr/local/lib/python3.7/dist-packages (from requests[socks]>=2.11.1->tweepy) (3.0.4)\n",
            "Requirement already satisfied: idna<3,>=2.5 in /usr/local/lib/python3.7/dist-packages (from requests[socks]>=2.11.1->tweepy) (2.10)\n",
            "Requirement already satisfied: PySocks!=1.5.7,>=1.5.6 in /usr/local/lib/python3.7/dist-packages (from requests[socks]>=2.11.1->tweepy) (1.7.1)\n"
          ]
        }
      ],
      "source": [
        "!pip install tweepy"
      ]
    },
    {
      "cell_type": "code",
      "source": [
        "!pip install unidecode"
      ],
      "metadata": {
        "colab": {
          "base_uri": "https://localhost:8080/"
        },
        "id": "KxqvrOO8cbs-",
        "outputId": "cd49fc50-dbc5-4a1a-bd84-81007f24e567"
      },
      "execution_count": 2,
      "outputs": [
        {
          "output_type": "stream",
          "name": "stdout",
          "text": [
            "Collecting unidecode\n",
            "  Downloading Unidecode-1.3.4-py3-none-any.whl (235 kB)\n",
            "\u001b[K     |████████████████████████████████| 235 kB 5.2 MB/s \n",
            "\u001b[?25hInstalling collected packages: unidecode\n",
            "Successfully installed unidecode-1.3.4\n"
          ]
        }
      ]
    },
    {
      "cell_type": "markdown",
      "source": [
        "### STEP 2: IMPORT IMPORTANT PACKAGES"
      ],
      "metadata": {
        "id": "mHYfgD6lcyiU"
      }
    },
    {
      "cell_type": "code",
      "source": [
        "#import dependencies\n",
        "import tweepy\n",
        "from tweepy import OAuthHandler\n",
        "from tweepy.streaming import StreamListener\n",
        "import json\n",
        "from unidecode import unidecode\n",
        "import time\n",
        "import datetime\n",
        "from tqdm import tqdm \n",
        "import pandas as pd  \n",
        "import numpy as np "
      ],
      "metadata": {
        "id": "vlQsrQN7cwnr"
      },
      "execution_count": 3,
      "outputs": []
    },
    {
      "cell_type": "markdown",
      "source": [
        "### STEP 3: AUTHENTICATING TWITTER'S API"
      ],
      "metadata": {
        "id": "_prvGzatdUyQ"
      }
    },
    {
      "cell_type": "code",
      "source": [
        "consumer_key = 'XeNVFTZF6hmtwX1amRdi6YyeU'\n",
        "consumer_secret = 'gWcL5O1PfZxoe1zOcZ0INbZ8CG3r5mCSjkabIT5H39KUAZSZzF'\n",
        "\n",
        "access_token = '1207771465879359507-Ihkj4DHyZ3ySX1XAHtFvVUwswjSULp'\n",
        "access_secret = 'bGYKr4NlKGOaG0dRUCsxyNupCgE3S14XVpSKzitvPZhGx'"
      ],
      "metadata": {
        "id": "xZO6ip8-daVR"
      },
      "execution_count": 4,
      "outputs": []
    },
    {
      "cell_type": "markdown",
      "source": [
        "### STEP 4: CONNECT TO TWITTER API USING THE SECRET KEY AND ACCESS TOKEN"
      ],
      "metadata": {
        "id": "E5djEK-odrj2"
      }
    },
    {
      "cell_type": "code",
      "source": [
        "auth = tweepy.OAuthHandler(consumer_key, consumer_secret)\n",
        "auth.set_access_token(access_token, access_secret)\n",
        "\n",
        "api = tweepy.API(auth)"
      ],
      "metadata": {
        "id": "f8rcT830dpau"
      },
      "execution_count": 5,
      "outputs": []
    },
    {
      "cell_type": "markdown",
      "source": [
        "### STEP 5: DEFINE A FUNCTION THAT WILL TAKE THE SEARCH QUERY"
      ],
      "metadata": {
        "id": "zdusrWhPd43P"
      }
    },
    {
      "cell_type": "code",
      "source": [
        "def tweetSearch(query, limit):\n",
        "    \"\"\"\n",
        "    This function will search a query provided in the twitter and,\n",
        "    retun a list of all tweets that have a query. \n",
        "    \"\"\"\n",
        "\n",
        "    # Create a blank variable\n",
        "    tweets = []\n",
        "\n",
        "    # Iterate through Twitter using Tweepy to find our query with our defined limit\n",
        "    for page in tweepy.Cursor(\n",
        "        api.search, q=query, count=limit, tweet_mode=\"extended\"\n",
        "    ).pages(limit):\n",
        "        for tweet in page:\n",
        "            tweets.append(tweet)\n",
        "\n",
        "    # return tweets\n",
        "    return tweets"
      ],
      "metadata": {
        "id": "NKsauFjqd2eW"
      },
      "execution_count": 6,
      "outputs": []
    },
    {
      "cell_type": "markdown",
      "source": [
        "### CREATE A FUNCTION TO SAVE THE TWEETS INTO A DATAFRAME"
      ],
      "metadata": {
        "id": "q_ROy5Acgc_W"
      }
    },
    {
      "cell_type": "code",
      "source": [
        "def tweets_to_data_frame(tweets):\n",
        "    \"\"\"\n",
        "    This function will receive tweets and collect specific data from it such as place, tweet's text,likes \n",
        "    retweets and save them into a pandas data frame.\n",
        "    \n",
        "    This function will return a pandas data frame that contains data from twitter.\n",
        "    \"\"\"\n",
        "    df = pd.DataFrame(data=[tweet.full_text.encode('utf-8') for tweet in tweets], columns=[\"Tweets\"])\n",
        "\n",
        "    df[\"id\"] = np.array([tweet.id for tweet in tweets])\n",
        "    df[\"lens\"] = np.array([len(tweet.full_text) for tweet in tweets])\n",
        "    df[\"date\"] = np.array([tweet.created_at for tweet in tweets])\n",
        "    df[\"place\"] = np.array([tweet.place for tweet in tweets])\n",
        "    df[\"coordinateS\"] = np.array([tweet.coordinates for tweet in tweets])\n",
        "    df[\"lang\"] = np.array([tweet.lang for tweet in tweets])\n",
        "    df[\"source\"] = np.array([tweet.source for tweet in tweets])\n",
        "    df[\"likes\"] = np.array([tweet.favorite_count for tweet in tweets])\n",
        "    df[\"retweets\"] = np.array([tweet.retweet_count for tweet in tweets])\n",
        "    return df"
      ],
      "metadata": {
        "id": "8_YUMo37gatn"
      },
      "execution_count": 7,
      "outputs": []
    },
    {
      "cell_type": "markdown",
      "source": [
        "### STEP 7: ADD TWITTER HASHTAGS RELATED TO GENDER-BASED VIOLENCE"
      ],
      "metadata": {
        "id": "aW95Mhrrg0-3"
      }
    },
    {
      "cell_type": "code",
      "source": [
        "# add hashtags in the following list\n",
        "hashtags = [\n",
        "'#GBV',\n",
        "'#sexism',\n",
        "'#rape'    \n",
        "]"
      ],
      "metadata": {
        "id": "WGG3npFagnDK"
      },
      "execution_count": 8,
      "outputs": []
    },
    {
      "cell_type": "markdown",
      "source": [
        "### STEP 8: RUN BOTH FUNCTIONS TO COLLECT DATA FROM TWITTER RELATED TO THE HASHTAGS LISTED ABOVE"
      ],
      "metadata": {
        "id": "i9qeS2QnhbK4"
      }
    },
    {
      "cell_type": "code",
      "source": [
        "total_tweets = 0\n",
        "\n",
        "\"\"\"\n",
        "The following for loop will collect a tweets that have the hashtags\n",
        " mentioned in the list and save the tweets into csv file\n",
        "\"\"\"\n",
        "\n",
        "for n in tqdm(hashtags):\n",
        "    # first we fetch all tweets that have specific hashtag\n",
        "    hash_tweets = tweetSearch(query=n,limit=7000)\n",
        "    total_tweets += int(len(hash_tweets))\n",
        "    \n",
        "    # second we convert our tweets into datarame\n",
        "    df = tweets_to_data_frame(hash_tweets)\n",
        "    \n",
        "    #third we save the dataframe into csv file\n",
        "    df.to_csv(\"tweets.csv\".format(n))"
      ],
      "metadata": {
        "colab": {
          "base_uri": "https://localhost:8080/"
        },
        "id": "orLtoW2Fg-Vx",
        "outputId": "4bb07cc2-7af3-49e5-95eb-fdcb9e6d93b5"
      },
      "execution_count": 9,
      "outputs": [
        {
          "output_type": "stream",
          "name": "stderr",
          "text": [
            "100%|██████████| 3/3 [00:39<00:00, 13.28s/it]\n"
          ]
        }
      ]
    },
    {
      "cell_type": "code",
      "source": [
        "df"
      ],
      "metadata": {
        "id": "Q3hdahrHhlUS",
        "colab": {
          "base_uri": "https://localhost:8080/",
          "height": 423
        },
        "outputId": "9745cf15-e393-4508-e1d1-1f3081dcd24e"
      },
      "execution_count": 10,
      "outputs": [
        {
          "output_type": "execute_result",
          "data": {
            "text/plain": [
              "                                                 Tweets                   id  \\\n",
              "0     b'RT @DawitTe70002088: Sexual violence is bein...  1517403679074267137   \n",
              "1     b'RT @DawitTe70002088: Sexual violence is bein...  1517403534450429952   \n",
              "2     b'\\xe0\\xa6\\xb9\\xe0\\xa6\\xbe\\xe0\\xa6\\xa4\\xe0\\xa7...  1517401934487261185   \n",
              "3     b'@Chella38641 @sumanthraman \\xe0\\xae\\xa8\\xe0\\...  1517401747165425664   \n",
              "4     b'\\xe0\\xb0\\xaf\\xe0\\xb1\\x81\\xe0\\xb0\\xb5\\xe0\\xb0...  1517400665915813889   \n",
              "...                                                 ...                  ...   \n",
              "4366  b'#South Africa: #rape crisis (Cape Town) 0214...  1514444853131812864   \n",
              "4367  b'Never be ashamed of #rape be angry and tell ...  1514443768488943622   \n",
              "4368  b'One of my cousin just raped. \\xf0\\x9f\\x98\\x9...  1514442493068255232   \n",
              "4369  b'https://t.co/8I1KiwWpFD #Dairy #DairyKills #...  1514439575086710787   \n",
              "4370  b'RT @NavtejTv: 50 \\xe0\\xa4\\x97\\xe0\\xa4\\xb0\\xe...  1514439504194867201   \n",
              "\n",
              "      lens                date place coordinateS lang               source  \\\n",
              "0      143 2022-04-22 07:23:23  None        None   en  Twitter for Android   \n",
              "1      143 2022-04-22 07:22:49  None        None   en  Twitter for Android   \n",
              "2      121 2022-04-22 07:16:27  None        None   bn      Twitter Web App   \n",
              "3       93 2022-04-22 07:15:43  None        None   ta  Twitter for Android   \n",
              "4      147 2022-04-22 07:11:25  None        None   te      Twitter Web App   \n",
              "...    ...                 ...   ...         ...  ...                  ...   \n",
              "4366    50 2022-04-14 03:26:04  None        None   en         PixelTweeter   \n",
              "4367    75 2022-04-14 03:21:46  None        None   en  Twitter for Android   \n",
              "4368    59 2022-04-14 03:16:41  None        None   en   Twitter for iPhone   \n",
              "4369   198 2022-04-14 03:05:06  None        None  und   Twitter for iPhone   \n",
              "4370   140 2022-04-14 03:04:49  None        None   hi  Twitter for Android   \n",
              "\n",
              "      likes  retweets  \n",
              "0         0       288  \n",
              "1         0       288  \n",
              "2         0         0  \n",
              "3         0         0  \n",
              "4         0         0  \n",
              "...     ...       ...  \n",
              "4366      0         0  \n",
              "4367      0         0  \n",
              "4368      0         0  \n",
              "4369     14         6  \n",
              "4370      0         1  \n",
              "\n",
              "[4371 rows x 10 columns]"
            ],
            "text/html": [
              "\n",
              "  <div id=\"df-3562bf66-3ac2-49c1-901d-97b56e004c02\">\n",
              "    <div class=\"colab-df-container\">\n",
              "      <div>\n",
              "<style scoped>\n",
              "    .dataframe tbody tr th:only-of-type {\n",
              "        vertical-align: middle;\n",
              "    }\n",
              "\n",
              "    .dataframe tbody tr th {\n",
              "        vertical-align: top;\n",
              "    }\n",
              "\n",
              "    .dataframe thead th {\n",
              "        text-align: right;\n",
              "    }\n",
              "</style>\n",
              "<table border=\"1\" class=\"dataframe\">\n",
              "  <thead>\n",
              "    <tr style=\"text-align: right;\">\n",
              "      <th></th>\n",
              "      <th>Tweets</th>\n",
              "      <th>id</th>\n",
              "      <th>lens</th>\n",
              "      <th>date</th>\n",
              "      <th>place</th>\n",
              "      <th>coordinateS</th>\n",
              "      <th>lang</th>\n",
              "      <th>source</th>\n",
              "      <th>likes</th>\n",
              "      <th>retweets</th>\n",
              "    </tr>\n",
              "  </thead>\n",
              "  <tbody>\n",
              "    <tr>\n",
              "      <th>0</th>\n",
              "      <td>b'RT @DawitTe70002088: Sexual violence is bein...</td>\n",
              "      <td>1517403679074267137</td>\n",
              "      <td>143</td>\n",
              "      <td>2022-04-22 07:23:23</td>\n",
              "      <td>None</td>\n",
              "      <td>None</td>\n",
              "      <td>en</td>\n",
              "      <td>Twitter for Android</td>\n",
              "      <td>0</td>\n",
              "      <td>288</td>\n",
              "    </tr>\n",
              "    <tr>\n",
              "      <th>1</th>\n",
              "      <td>b'RT @DawitTe70002088: Sexual violence is bein...</td>\n",
              "      <td>1517403534450429952</td>\n",
              "      <td>143</td>\n",
              "      <td>2022-04-22 07:22:49</td>\n",
              "      <td>None</td>\n",
              "      <td>None</td>\n",
              "      <td>en</td>\n",
              "      <td>Twitter for Android</td>\n",
              "      <td>0</td>\n",
              "      <td>288</td>\n",
              "    </tr>\n",
              "    <tr>\n",
              "      <th>2</th>\n",
              "      <td>b'\\xe0\\xa6\\xb9\\xe0\\xa6\\xbe\\xe0\\xa6\\xa4\\xe0\\xa7...</td>\n",
              "      <td>1517401934487261185</td>\n",
              "      <td>121</td>\n",
              "      <td>2022-04-22 07:16:27</td>\n",
              "      <td>None</td>\n",
              "      <td>None</td>\n",
              "      <td>bn</td>\n",
              "      <td>Twitter Web App</td>\n",
              "      <td>0</td>\n",
              "      <td>0</td>\n",
              "    </tr>\n",
              "    <tr>\n",
              "      <th>3</th>\n",
              "      <td>b'@Chella38641 @sumanthraman \\xe0\\xae\\xa8\\xe0\\...</td>\n",
              "      <td>1517401747165425664</td>\n",
              "      <td>93</td>\n",
              "      <td>2022-04-22 07:15:43</td>\n",
              "      <td>None</td>\n",
              "      <td>None</td>\n",
              "      <td>ta</td>\n",
              "      <td>Twitter for Android</td>\n",
              "      <td>0</td>\n",
              "      <td>0</td>\n",
              "    </tr>\n",
              "    <tr>\n",
              "      <th>4</th>\n",
              "      <td>b'\\xe0\\xb0\\xaf\\xe0\\xb1\\x81\\xe0\\xb0\\xb5\\xe0\\xb0...</td>\n",
              "      <td>1517400665915813889</td>\n",
              "      <td>147</td>\n",
              "      <td>2022-04-22 07:11:25</td>\n",
              "      <td>None</td>\n",
              "      <td>None</td>\n",
              "      <td>te</td>\n",
              "      <td>Twitter Web App</td>\n",
              "      <td>0</td>\n",
              "      <td>0</td>\n",
              "    </tr>\n",
              "    <tr>\n",
              "      <th>...</th>\n",
              "      <td>...</td>\n",
              "      <td>...</td>\n",
              "      <td>...</td>\n",
              "      <td>...</td>\n",
              "      <td>...</td>\n",
              "      <td>...</td>\n",
              "      <td>...</td>\n",
              "      <td>...</td>\n",
              "      <td>...</td>\n",
              "      <td>...</td>\n",
              "    </tr>\n",
              "    <tr>\n",
              "      <th>4366</th>\n",
              "      <td>b'#South Africa: #rape crisis (Cape Town) 0214...</td>\n",
              "      <td>1514444853131812864</td>\n",
              "      <td>50</td>\n",
              "      <td>2022-04-14 03:26:04</td>\n",
              "      <td>None</td>\n",
              "      <td>None</td>\n",
              "      <td>en</td>\n",
              "      <td>PixelTweeter</td>\n",
              "      <td>0</td>\n",
              "      <td>0</td>\n",
              "    </tr>\n",
              "    <tr>\n",
              "      <th>4367</th>\n",
              "      <td>b'Never be ashamed of #rape be angry and tell ...</td>\n",
              "      <td>1514443768488943622</td>\n",
              "      <td>75</td>\n",
              "      <td>2022-04-14 03:21:46</td>\n",
              "      <td>None</td>\n",
              "      <td>None</td>\n",
              "      <td>en</td>\n",
              "      <td>Twitter for Android</td>\n",
              "      <td>0</td>\n",
              "      <td>0</td>\n",
              "    </tr>\n",
              "    <tr>\n",
              "      <th>4368</th>\n",
              "      <td>b'One of my cousin just raped. \\xf0\\x9f\\x98\\x9...</td>\n",
              "      <td>1514442493068255232</td>\n",
              "      <td>59</td>\n",
              "      <td>2022-04-14 03:16:41</td>\n",
              "      <td>None</td>\n",
              "      <td>None</td>\n",
              "      <td>en</td>\n",
              "      <td>Twitter for iPhone</td>\n",
              "      <td>0</td>\n",
              "      <td>0</td>\n",
              "    </tr>\n",
              "    <tr>\n",
              "      <th>4369</th>\n",
              "      <td>b'https://t.co/8I1KiwWpFD #Dairy #DairyKills #...</td>\n",
              "      <td>1514439575086710787</td>\n",
              "      <td>198</td>\n",
              "      <td>2022-04-14 03:05:06</td>\n",
              "      <td>None</td>\n",
              "      <td>None</td>\n",
              "      <td>und</td>\n",
              "      <td>Twitter for iPhone</td>\n",
              "      <td>14</td>\n",
              "      <td>6</td>\n",
              "    </tr>\n",
              "    <tr>\n",
              "      <th>4370</th>\n",
              "      <td>b'RT @NavtejTv: 50 \\xe0\\xa4\\x97\\xe0\\xa4\\xb0\\xe...</td>\n",
              "      <td>1514439504194867201</td>\n",
              "      <td>140</td>\n",
              "      <td>2022-04-14 03:04:49</td>\n",
              "      <td>None</td>\n",
              "      <td>None</td>\n",
              "      <td>hi</td>\n",
              "      <td>Twitter for Android</td>\n",
              "      <td>0</td>\n",
              "      <td>1</td>\n",
              "    </tr>\n",
              "  </tbody>\n",
              "</table>\n",
              "<p>4371 rows × 10 columns</p>\n",
              "</div>\n",
              "      <button class=\"colab-df-convert\" onclick=\"convertToInteractive('df-3562bf66-3ac2-49c1-901d-97b56e004c02')\"\n",
              "              title=\"Convert this dataframe to an interactive table.\"\n",
              "              style=\"display:none;\">\n",
              "        \n",
              "  <svg xmlns=\"http://www.w3.org/2000/svg\" height=\"24px\"viewBox=\"0 0 24 24\"\n",
              "       width=\"24px\">\n",
              "    <path d=\"M0 0h24v24H0V0z\" fill=\"none\"/>\n",
              "    <path d=\"M18.56 5.44l.94 2.06.94-2.06 2.06-.94-2.06-.94-.94-2.06-.94 2.06-2.06.94zm-11 1L8.5 8.5l.94-2.06 2.06-.94-2.06-.94L8.5 2.5l-.94 2.06-2.06.94zm10 10l.94 2.06.94-2.06 2.06-.94-2.06-.94-.94-2.06-.94 2.06-2.06.94z\"/><path d=\"M17.41 7.96l-1.37-1.37c-.4-.4-.92-.59-1.43-.59-.52 0-1.04.2-1.43.59L10.3 9.45l-7.72 7.72c-.78.78-.78 2.05 0 2.83L4 21.41c.39.39.9.59 1.41.59.51 0 1.02-.2 1.41-.59l7.78-7.78 2.81-2.81c.8-.78.8-2.07 0-2.86zM5.41 20L4 18.59l7.72-7.72 1.47 1.35L5.41 20z\"/>\n",
              "  </svg>\n",
              "      </button>\n",
              "      \n",
              "  <style>\n",
              "    .colab-df-container {\n",
              "      display:flex;\n",
              "      flex-wrap:wrap;\n",
              "      gap: 12px;\n",
              "    }\n",
              "\n",
              "    .colab-df-convert {\n",
              "      background-color: #E8F0FE;\n",
              "      border: none;\n",
              "      border-radius: 50%;\n",
              "      cursor: pointer;\n",
              "      display: none;\n",
              "      fill: #1967D2;\n",
              "      height: 32px;\n",
              "      padding: 0 0 0 0;\n",
              "      width: 32px;\n",
              "    }\n",
              "\n",
              "    .colab-df-convert:hover {\n",
              "      background-color: #E2EBFA;\n",
              "      box-shadow: 0px 1px 2px rgba(60, 64, 67, 0.3), 0px 1px 3px 1px rgba(60, 64, 67, 0.15);\n",
              "      fill: #174EA6;\n",
              "    }\n",
              "\n",
              "    [theme=dark] .colab-df-convert {\n",
              "      background-color: #3B4455;\n",
              "      fill: #D2E3FC;\n",
              "    }\n",
              "\n",
              "    [theme=dark] .colab-df-convert:hover {\n",
              "      background-color: #434B5C;\n",
              "      box-shadow: 0px 1px 3px 1px rgba(0, 0, 0, 0.15);\n",
              "      filter: drop-shadow(0px 1px 2px rgba(0, 0, 0, 0.3));\n",
              "      fill: #FFFFFF;\n",
              "    }\n",
              "  </style>\n",
              "\n",
              "      <script>\n",
              "        const buttonEl =\n",
              "          document.querySelector('#df-3562bf66-3ac2-49c1-901d-97b56e004c02 button.colab-df-convert');\n",
              "        buttonEl.style.display =\n",
              "          google.colab.kernel.accessAllowed ? 'block' : 'none';\n",
              "\n",
              "        async function convertToInteractive(key) {\n",
              "          const element = document.querySelector('#df-3562bf66-3ac2-49c1-901d-97b56e004c02');\n",
              "          const dataTable =\n",
              "            await google.colab.kernel.invokeFunction('convertToInteractive',\n",
              "                                                     [key], {});\n",
              "          if (!dataTable) return;\n",
              "\n",
              "          const docLinkHtml = 'Like what you see? Visit the ' +\n",
              "            '<a target=\"_blank\" href=https://colab.research.google.com/notebooks/data_table.ipynb>data table notebook</a>'\n",
              "            + ' to learn more about interactive tables.';\n",
              "          element.innerHTML = '';\n",
              "          dataTable['output_type'] = 'display_data';\n",
              "          await google.colab.output.renderOutput(dataTable, element);\n",
              "          const docLink = document.createElement('div');\n",
              "          docLink.innerHTML = docLinkHtml;\n",
              "          element.appendChild(docLink);\n",
              "        }\n",
              "      </script>\n",
              "    </div>\n",
              "  </div>\n",
              "  "
            ]
          },
          "metadata": {},
          "execution_count": 10
        }
      ]
    },
    {
      "cell_type": "markdown",
      "source": [
        "### SHOW TOTAL NUMBER OF TWEETS COLLECTED"
      ],
      "metadata": {
        "id": "yIBN-RLohxfB"
      }
    },
    {
      "cell_type": "code",
      "source": [
        "# show total number of tweets collected\n",
        "print(\"total_tweets: {}\".format(total_tweets))"
      ],
      "metadata": {
        "id": "lluuqokAhmkD",
        "colab": {
          "base_uri": "https://localhost:8080/"
        },
        "outputId": "3cd8cf02-415e-4426-bb88-8d2350fe5e5f"
      },
      "execution_count": 11,
      "outputs": [
        {
          "output_type": "stream",
          "name": "stdout",
          "text": [
            "total_tweets: 6187\n"
          ]
        }
      ]
    },
    {
      "cell_type": "markdown",
      "source": [
        "For more tweepy configuration please read the tweepy documentation here (https://docs.tweepy.org/en/latest/)"
      ],
      "metadata": {
        "id": "1oAzb9zQLegF"
      }
    }
  ]
}